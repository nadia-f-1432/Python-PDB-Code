{
 "cells": [
  {
   "cell_type": "code",
   "execution_count": 1,
   "id": "9ca442fa",
   "metadata": {},
   "outputs": [],
   "source": [
    "chunk=\"LYS ALA LYS ALA \"\n",
    "counter=-1\n",
    "for chunk_num in range(31):\n",
    "    f = open(\"file\" + str(chunk_num)+\".txt\", \"w\")\n",
    "    f.write(\"source leaprc.protein.ff14SB \\n\")\n",
    "\n",
    "    seq = chunk*chunk_num\n",
    "    \n",
    "    f.write(\"foo = sequence { \" + seq + \"}\")\n",
    "\n",
    "    total_num = chunk_num * 4 #total num of amino acids \n",
    "    \n",
    "    for j in range(total_num + 1):\n",
    "        if(j%2==1):\n",
    "            f.write(\"\\nselect foo.\"+str(j)+\".CA\")\n",
    "    counter+=1\n",
    "    f.write(\"\\nflip foo\\nsavepdb foo peptide\"+str(counter)+\".pdb\\nquit\")\n",
    "    f.close()"
   ]
  },
  {
   "cell_type": "code",
   "execution_count": null,
   "id": "43855603",
   "metadata": {},
   "outputs": [],
   "source": []
  },
  {
   "cell_type": "code",
   "execution_count": null,
   "id": "bc0e6a84",
   "metadata": {},
   "outputs": [],
   "source": []
  }
 ],
 "metadata": {
  "kernelspec": {
   "display_name": "Python 3 (ipykernel)",
   "language": "python",
   "name": "python3"
  },
  "language_info": {
   "codemirror_mode": {
    "name": "ipython",
    "version": 3
   },
   "file_extension": ".py",
   "mimetype": "text/x-python",
   "name": "python",
   "nbconvert_exporter": "python",
   "pygments_lexer": "ipython3",
   "version": "3.9.7"
  }
 },
 "nbformat": 4,
 "nbformat_minor": 5
}
